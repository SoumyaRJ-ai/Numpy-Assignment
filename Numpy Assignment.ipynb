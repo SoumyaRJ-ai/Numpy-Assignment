{
 "cells": [
  {
   "cell_type": "code",
   "execution_count": 1,
   "metadata": {},
   "outputs": [],
   "source": [
    "import pandas as pd\n",
    "import numpy as np\n",
    "import matplotlib.pyplot as plt"
   ]
  },
  {
   "cell_type": "markdown",
   "metadata": {},
   "source": [
    "# Problem 1"
   ]
  },
  {
   "cell_type": "raw",
   "metadata": {},
   "source": [
    "1. Write a function so that the columns of the output matrix are powers of the input vector\n",
    "The order of the powers is determined by the increasing boolean argument. Specifically, when increasing is False, the i-th output column is the input vector raised element-wise to the power of N - i - 1.\n",
    "\n",
    "HINT: Such a matrix with a geometric progression in each row is named for AlexandreTheophile Vandermonde"
   ]
  },
  {
   "cell_type": "code",
   "execution_count": 477,
   "metadata": {},
   "outputs": [],
   "source": [
    "def fun(input_vector,N,increasing):\n",
    "    if(increasing == False):\n",
    "        k=[]\n",
    "        for i in range(N):\n",
    "            k.append(input_vector**(N-1-i))\n",
    "        return (k)\n",
    "    elif(increasing == True):\n",
    "        k=[]\n",
    "        for i in range(N):\n",
    "            k.append(input_vector**i)\n",
    "        return (k)"
   ]
  },
  {
   "cell_type": "code",
   "execution_count": 478,
   "metadata": {},
   "outputs": [],
   "source": [
    "input_vector = np.array([1,2,3,4,5])\n",
    "col_count_opmat = 6"
   ]
  },
  {
   "cell_type": "code",
   "execution_count": 479,
   "metadata": {},
   "outputs": [
    {
     "name": "stdout",
     "output_type": "stream",
     "text": [
      "Printing the decreasing order:\n",
      "\n"
     ]
    },
    {
     "data": {
      "text/plain": [
       "array([[   1,    1,    1,    1,    1,    1],\n",
       "       [  32,   16,    8,    4,    2,    1],\n",
       "       [ 243,   81,   27,    9,    3,    1],\n",
       "       [1024,  256,   64,   16,    4,    1],\n",
       "       [3125,  625,  125,   25,    5,    1]], dtype=int32)"
      ]
     },
     "execution_count": 479,
     "metadata": {},
     "output_type": "execute_result"
    }
   ],
   "source": [
    "print(\"Printing the decreasing order:\\n\")\n",
    "dec_mat = fun(input_vector,col_count_opmat,False)\n",
    "np.column_stack([dec_mat]).T"
   ]
  },
  {
   "cell_type": "code",
   "execution_count": 480,
   "metadata": {},
   "outputs": [
    {
     "name": "stdout",
     "output_type": "stream",
     "text": [
      "Printing the increasing order:\n",
      "\n"
     ]
    },
    {
     "data": {
      "text/plain": [
       "array([[   1,    1,    1,    1,    1,    1],\n",
       "       [   1,    2,    4,    8,   16,   32],\n",
       "       [   1,    3,    9,   27,   81,  243],\n",
       "       [   1,    4,   16,   64,  256, 1024],\n",
       "       [   1,    5,   25,  125,  625, 3125]], dtype=int32)"
      ]
     },
     "execution_count": 480,
     "metadata": {},
     "output_type": "execute_result"
    }
   ],
   "source": [
    "print(\"Printing the increasing order:\\n\")\n",
    "inc_mat = fun(input_vector,col_count_opmat,True)\n",
    "np.column_stack([inc_mat]).T"
   ]
  },
  {
   "cell_type": "markdown",
   "metadata": {},
   "source": [
    "# Problem 2"
   ]
  },
  {
   "cell_type": "raw",
   "metadata": {},
   "source": [
    "Given a sequence of n values x1, x2, ..., xn and a window size k>0, the k-th moving average of the given sequence is defined \n",
    "as follows:\n",
    "    \n",
    "The moving average sequence has n-k+1 elements as shown below.\n",
    "\n",
    "The moving averages with k=4 of a ten-value sequence (n=10) is shown below\n",
    "\n",
    "i 1 2 3 4 5 6 7 8 9 10\n",
    "===== == == == == == == == == == ==\n",
    "Input 10 20 30 40 50 60 70 80 90 100\n",
    "y1 25 = (10+20+30+40)/4\n",
    "y2 35 = (20+30+40+50)/4\n",
    "y3 45 = (30+40+50+60)/4\n",
    "y4 55 = (40+50+60+70)/4\n",
    "y5 65 = (50+60+70+80)/4\n",
    "y6 75 = (60+70+80+90)/4\n",
    "y7 85 = (70+80+90+100)/4\n",
    "\n",
    "Thus, the moving average sequence has n-k+1=10-4+1=7 values\n",
    "\n",
    "Question: \n",
    "Write a function to find moving average in an array over a window:\n",
    "Test it over [3, 5, 7, 2, 8, 10, 11, 65, 72, 81, 99, 100, 150] and window of 3."
   ]
  },
  {
   "cell_type": "code",
   "execution_count": 77,
   "metadata": {},
   "outputs": [],
   "source": [
    "def calc_moving_avg(input_array, window_size):\n",
    "    mavg_count = len(input_array) - window_size + 1\n",
    "    flag = 0\n",
    "    list_output = []\n",
    "    for i in np.arange(mavg_count):\n",
    "        summation = 0\n",
    "        index_val = flag\n",
    "        for j in np.arange(window_size):\n",
    "            summation = summation + input_array[index_val]\n",
    "            index_val+= 1\n",
    "        list_output.append(round(float((summation/window_size)),1))\n",
    "        flag+= 1\n",
    "    return list_output"
   ]
  },
  {
   "cell_type": "code",
   "execution_count": 78,
   "metadata": {},
   "outputs": [
    {
     "name": "stdout",
     "output_type": "stream",
     "text": [
      "Enter array elements separated by space:3 5 7 2  8 10 11 65 72 81 99 100 150\n",
      "Original array elements:  [  3   5   7   2   8  10  11  65  72  81  99 100 150]\n",
      "Enter the window size: 3\n",
      "Printing the moving average of the array: [  5.    4.7   5.7   6.7   9.7  28.7  49.3  72.7  84.   93.3 116.3]\n"
     ]
    }
   ],
   "source": [
    "array_el = np.array([int(item) for item in input(\"Enter array elements separated by space:\").split()])\n",
    "print(\"Original array elements: \",array_el)\n",
    "window_size = int(input(\"Enter the window size: \"))\n",
    "list_output = calc_moving_avg(array_el,window_size)\n",
    "print(\"Printing the moving average of the array:\",np.array(list_output))"
   ]
  }
 ],
 "metadata": {
  "kernelspec": {
   "display_name": "Python 3",
   "language": "python",
   "name": "python3"
  },
  "language_info": {
   "codemirror_mode": {
    "name": "ipython",
    "version": 3
   },
   "file_extension": ".py",
   "mimetype": "text/x-python",
   "name": "python",
   "nbconvert_exporter": "python",
   "pygments_lexer": "ipython3",
   "version": "3.7.6"
  }
 },
 "nbformat": 4,
 "nbformat_minor": 4
}
